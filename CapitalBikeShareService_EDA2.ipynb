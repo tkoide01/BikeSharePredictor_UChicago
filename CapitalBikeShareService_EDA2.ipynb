{
  "nbformat": 4,
  "nbformat_minor": 0,
  "metadata": {
    "colab": {
      "provenance": [],
      "toc_visible": true,
      "authorship_tag": "ABX9TyMihraCNhfqUwFJUtuVIE58",
      "include_colab_link": true
    },
    "kernelspec": {
      "name": "python3",
      "display_name": "Python 3"
    },
    "language_info": {
      "name": "python"
    }
  },
  "cells": [
    {
      "cell_type": "markdown",
      "metadata": {
        "id": "view-in-github",
        "colab_type": "text"
      },
      "source": [
        "<a href=\"https://colab.research.google.com/github/tkoide01/BikeSharePredictor_UChicago/blob/main/CapitalBikeShareService_EDA2.ipynb\" target=\"_parent\"><img src=\"https://colab.research.google.com/assets/colab-badge.svg\" alt=\"Open In Colab\"/></a>"
      ]
    },
    {
      "cell_type": "code",
      "execution_count": 1,
      "metadata": {
        "colab": {
          "base_uri": "https://localhost:8080/"
        },
        "id": "ZIDslyqybqfT",
        "outputId": "ede48905-8988-4b7e-9adf-cb6283e4a10d"
      },
      "outputs": [
        {
          "output_type": "stream",
          "name": "stdout",
          "text": [
            "Mounted at /content/drive\n"
          ]
        }
      ],
      "source": [
        "# Import libraries\n",
        "import matplotlib.pyplot as plt\n",
        "import numpy as np\n",
        "import pandas as pd\n",
        "import seaborn as sns\n",
        "import os\n",
        "from matplotlib.ticker import FuncFormatter\n",
        "\n",
        "# Set the display format for floating-point numbers\n",
        "pd.options.display.float_format = '{:.2f}'.format\n",
        "\n",
        "# Mount Google Drive: \n",
        "from google.colab import drive\n",
        "drive.mount('/content/drive')"
      ]
    },
    {
      "cell_type": "markdown",
      "source": [
        "\n",
        "\n",
        "### 1. Load Bike Sharing Service CSV data into dataframe"
      ],
      "metadata": {
        "id": "Mdlrfw4lb1NJ"
      }
    },
    {
      "cell_type": "code",
      "source": [
        "# Specify the directory path: \n",
        "path = \"/content/drive/My Drive/MSCA31009MLPA_FinalProject/data/pre-pandemic\"\n",
        "!ls \"/content/drive/My Drive/MSCA31009MLPA_FinalProject/data/pre-pandemic\""
      ],
      "metadata": {
        "colab": {
          "base_uri": "https://localhost:8080/"
        },
        "id": "8IRP9mHlbuI_",
        "outputId": "d66b56ab-feeb-4d0b-bd0f-58e5a6553a27"
      },
      "execution_count": 2,
      "outputs": [
        {
          "output_type": "stream",
          "name": "stdout",
          "text": [
            "EDA2018.csv  EDA2019.csv\n"
          ]
        }
      ]
    },
    {
      "cell_type": "code",
      "source": [
        "# Loop through the files:\n",
        "\n",
        "pre_pandemic_data = pd.DataFrame()  # Create an empty DataFrame to store the concatenated data\n",
        "\n",
        "for file_name in os.listdir(path):\n",
        "    if file_name.endswith(\".csv\"):\n",
        "        file_path = os.path.join(path, file_name)\n",
        "        data = pd.read_csv(file_path)\n",
        "        pre_pandemic_data = pd.concat([pre_pandemic_data, data], ignore_index=True)"
      ],
      "metadata": {
        "id": "OBsGJfPdb-Xi"
      },
      "execution_count": 3,
      "outputs": []
    },
    {
      "cell_type": "code",
      "source": [
        "pre_pandemic_data.head()"
      ],
      "metadata": {
        "colab": {
          "base_uri": "https://localhost:8080/",
          "height": 600
        },
        "id": "lFrJpqWFnPkv",
        "outputId": "0870b53b-4c83-4614-c82f-15f63621b8b8"
      },
      "execution_count": 4,
      "outputs": [
        {
          "output_type": "execute_result",
          "data": {
            "text/plain": [
              "   Unnamed: 0  Duration           Start date  Start station number  \\\n",
              "0           0       221  2017-01-01 00:00:41                 31634   \n",
              "1           1      1676  2017-01-01 00:06:53                 31258   \n",
              "2           2      1356  2017-01-01 00:07:10                 31289   \n",
              "3           3      1327  2017-01-01 00:07:22                 31289   \n",
              "4           4      1636  2017-01-01 00:07:36                 31258   \n",
              "\n",
              "                                 Start station  End station number  \\\n",
              "0                           3rd & Tingey St SE               31208   \n",
              "1                             Lincoln Memorial               31270   \n",
              "2  Henry Bacon Dr & Lincoln Memorial Circle NW               31222   \n",
              "3  Henry Bacon Dr & Lincoln Memorial Circle NW               31222   \n",
              "4                             Lincoln Memorial               31270   \n",
              "\n",
              "                 End station Member type time_of_day day_of_week    month  \n",
              "0   M St & New Jersey Ave SE      Member       00:00      Sunday  January  \n",
              "1              8th & D St NW      Casual       00:06      Sunday  January  \n",
              "2  New York Ave & 15th St NW      Casual       00:07      Sunday  January  \n",
              "3  New York Ave & 15th St NW      Casual       00:07      Sunday  January  \n",
              "4              8th & D St NW      Casual       00:07      Sunday  January  "
            ],
            "text/html": [
              "\n",
              "  <div id=\"df-5cb26e2a-6a2c-4f57-9130-e39ab253d2c7\">\n",
              "    <div class=\"colab-df-container\">\n",
              "      <div>\n",
              "<style scoped>\n",
              "    .dataframe tbody tr th:only-of-type {\n",
              "        vertical-align: middle;\n",
              "    }\n",
              "\n",
              "    .dataframe tbody tr th {\n",
              "        vertical-align: top;\n",
              "    }\n",
              "\n",
              "    .dataframe thead th {\n",
              "        text-align: right;\n",
              "    }\n",
              "</style>\n",
              "<table border=\"1\" class=\"dataframe\">\n",
              "  <thead>\n",
              "    <tr style=\"text-align: right;\">\n",
              "      <th></th>\n",
              "      <th>Unnamed: 0</th>\n",
              "      <th>Duration</th>\n",
              "      <th>Start date</th>\n",
              "      <th>Start station number</th>\n",
              "      <th>Start station</th>\n",
              "      <th>End station number</th>\n",
              "      <th>End station</th>\n",
              "      <th>Member type</th>\n",
              "      <th>time_of_day</th>\n",
              "      <th>day_of_week</th>\n",
              "      <th>month</th>\n",
              "    </tr>\n",
              "  </thead>\n",
              "  <tbody>\n",
              "    <tr>\n",
              "      <th>0</th>\n",
              "      <td>0</td>\n",
              "      <td>221</td>\n",
              "      <td>2017-01-01 00:00:41</td>\n",
              "      <td>31634</td>\n",
              "      <td>3rd &amp; Tingey St SE</td>\n",
              "      <td>31208</td>\n",
              "      <td>M St &amp; New Jersey Ave SE</td>\n",
              "      <td>Member</td>\n",
              "      <td>00:00</td>\n",
              "      <td>Sunday</td>\n",
              "      <td>January</td>\n",
              "    </tr>\n",
              "    <tr>\n",
              "      <th>1</th>\n",
              "      <td>1</td>\n",
              "      <td>1676</td>\n",
              "      <td>2017-01-01 00:06:53</td>\n",
              "      <td>31258</td>\n",
              "      <td>Lincoln Memorial</td>\n",
              "      <td>31270</td>\n",
              "      <td>8th &amp; D St NW</td>\n",
              "      <td>Casual</td>\n",
              "      <td>00:06</td>\n",
              "      <td>Sunday</td>\n",
              "      <td>January</td>\n",
              "    </tr>\n",
              "    <tr>\n",
              "      <th>2</th>\n",
              "      <td>2</td>\n",
              "      <td>1356</td>\n",
              "      <td>2017-01-01 00:07:10</td>\n",
              "      <td>31289</td>\n",
              "      <td>Henry Bacon Dr &amp; Lincoln Memorial Circle NW</td>\n",
              "      <td>31222</td>\n",
              "      <td>New York Ave &amp; 15th St NW</td>\n",
              "      <td>Casual</td>\n",
              "      <td>00:07</td>\n",
              "      <td>Sunday</td>\n",
              "      <td>January</td>\n",
              "    </tr>\n",
              "    <tr>\n",
              "      <th>3</th>\n",
              "      <td>3</td>\n",
              "      <td>1327</td>\n",
              "      <td>2017-01-01 00:07:22</td>\n",
              "      <td>31289</td>\n",
              "      <td>Henry Bacon Dr &amp; Lincoln Memorial Circle NW</td>\n",
              "      <td>31222</td>\n",
              "      <td>New York Ave &amp; 15th St NW</td>\n",
              "      <td>Casual</td>\n",
              "      <td>00:07</td>\n",
              "      <td>Sunday</td>\n",
              "      <td>January</td>\n",
              "    </tr>\n",
              "    <tr>\n",
              "      <th>4</th>\n",
              "      <td>4</td>\n",
              "      <td>1636</td>\n",
              "      <td>2017-01-01 00:07:36</td>\n",
              "      <td>31258</td>\n",
              "      <td>Lincoln Memorial</td>\n",
              "      <td>31270</td>\n",
              "      <td>8th &amp; D St NW</td>\n",
              "      <td>Casual</td>\n",
              "      <td>00:07</td>\n",
              "      <td>Sunday</td>\n",
              "      <td>January</td>\n",
              "    </tr>\n",
              "  </tbody>\n",
              "</table>\n",
              "</div>\n",
              "      <button class=\"colab-df-convert\" onclick=\"convertToInteractive('df-5cb26e2a-6a2c-4f57-9130-e39ab253d2c7')\"\n",
              "              title=\"Convert this dataframe to an interactive table.\"\n",
              "              style=\"display:none;\">\n",
              "        \n",
              "  <svg xmlns=\"http://www.w3.org/2000/svg\" height=\"24px\"viewBox=\"0 0 24 24\"\n",
              "       width=\"24px\">\n",
              "    <path d=\"M0 0h24v24H0V0z\" fill=\"none\"/>\n",
              "    <path d=\"M18.56 5.44l.94 2.06.94-2.06 2.06-.94-2.06-.94-.94-2.06-.94 2.06-2.06.94zm-11 1L8.5 8.5l.94-2.06 2.06-.94-2.06-.94L8.5 2.5l-.94 2.06-2.06.94zm10 10l.94 2.06.94-2.06 2.06-.94-2.06-.94-.94-2.06-.94 2.06-2.06.94z\"/><path d=\"M17.41 7.96l-1.37-1.37c-.4-.4-.92-.59-1.43-.59-.52 0-1.04.2-1.43.59L10.3 9.45l-7.72 7.72c-.78.78-.78 2.05 0 2.83L4 21.41c.39.39.9.59 1.41.59.51 0 1.02-.2 1.41-.59l7.78-7.78 2.81-2.81c.8-.78.8-2.07 0-2.86zM5.41 20L4 18.59l7.72-7.72 1.47 1.35L5.41 20z\"/>\n",
              "  </svg>\n",
              "      </button>\n",
              "      \n",
              "  <style>\n",
              "    .colab-df-container {\n",
              "      display:flex;\n",
              "      flex-wrap:wrap;\n",
              "      gap: 12px;\n",
              "    }\n",
              "\n",
              "    .colab-df-convert {\n",
              "      background-color: #E8F0FE;\n",
              "      border: none;\n",
              "      border-radius: 50%;\n",
              "      cursor: pointer;\n",
              "      display: none;\n",
              "      fill: #1967D2;\n",
              "      height: 32px;\n",
              "      padding: 0 0 0 0;\n",
              "      width: 32px;\n",
              "    }\n",
              "\n",
              "    .colab-df-convert:hover {\n",
              "      background-color: #E2EBFA;\n",
              "      box-shadow: 0px 1px 2px rgba(60, 64, 67, 0.3), 0px 1px 3px 1px rgba(60, 64, 67, 0.15);\n",
              "      fill: #174EA6;\n",
              "    }\n",
              "\n",
              "    [theme=dark] .colab-df-convert {\n",
              "      background-color: #3B4455;\n",
              "      fill: #D2E3FC;\n",
              "    }\n",
              "\n",
              "    [theme=dark] .colab-df-convert:hover {\n",
              "      background-color: #434B5C;\n",
              "      box-shadow: 0px 1px 3px 1px rgba(0, 0, 0, 0.15);\n",
              "      filter: drop-shadow(0px 1px 2px rgba(0, 0, 0, 0.3));\n",
              "      fill: #FFFFFF;\n",
              "    }\n",
              "  </style>\n",
              "\n",
              "      <script>\n",
              "        const buttonEl =\n",
              "          document.querySelector('#df-5cb26e2a-6a2c-4f57-9130-e39ab253d2c7 button.colab-df-convert');\n",
              "        buttonEl.style.display =\n",
              "          google.colab.kernel.accessAllowed ? 'block' : 'none';\n",
              "\n",
              "        async function convertToInteractive(key) {\n",
              "          const element = document.querySelector('#df-5cb26e2a-6a2c-4f57-9130-e39ab253d2c7');\n",
              "          const dataTable =\n",
              "            await google.colab.kernel.invokeFunction('convertToInteractive',\n",
              "                                                     [key], {});\n",
              "          if (!dataTable) return;\n",
              "\n",
              "          const docLinkHtml = 'Like what you see? Visit the ' +\n",
              "            '<a target=\"_blank\" href=https://colab.research.google.com/notebooks/data_table.ipynb>data table notebook</a>'\n",
              "            + ' to learn more about interactive tables.';\n",
              "          element.innerHTML = '';\n",
              "          dataTable['output_type'] = 'display_data';\n",
              "          await google.colab.output.renderOutput(dataTable, element);\n",
              "          const docLink = document.createElement('div');\n",
              "          docLink.innerHTML = docLinkHtml;\n",
              "          element.appendChild(docLink);\n",
              "        }\n",
              "      </script>\n",
              "    </div>\n",
              "  </div>\n",
              "  "
            ]
          },
          "metadata": {},
          "execution_count": 4
        }
      ]
    },
    {
      "cell_type": "code",
      "source": [
        "# pre_pandemic_data.drop(['Unnamed: 0'], axis=1, inplace=True)  # Remove specific columns from the DataFrame\n",
        "# pre_pandemic_data.drop(['Start station number'], axis=1, inplace=True)  # Remove specific columns from the DataFrame\n",
        "# pre_pandemic_data.drop(['End station number'], axis=1, inplace=True)  # Remove specific columns from the DataFrame\n"
      ],
      "metadata": {
        "id": "3gVBvsIUosUR"
      },
      "execution_count": 4,
      "outputs": []
    },
    {
      "cell_type": "code",
      "source": [
        "pre_pandemic_data = pre_pandemic_data[['Start date','Start station number','End station number', 'Member type', 'day_of_week', 'month']]"
      ],
      "metadata": {
        "id": "yxOQyStRqy-B"
      },
      "execution_count": 5,
      "outputs": []
    },
    {
      "cell_type": "code",
      "source": [
        "print(pre_pandemic_data.info())      # Get information about the DataFrame, including column data types and missing values\n",
        "print(pre_pandemic_data.describe())  # Generate summary statistics of the DataFrame"
      ],
      "metadata": {
        "colab": {
          "base_uri": "https://localhost:8080/"
        },
        "id": "7espIrz9zFLZ",
        "outputId": "ee972a89-5f28-4d88-9a92-315767352abe"
      },
      "execution_count": 6,
      "outputs": [
        {
          "output_type": "stream",
          "name": "stdout",
          "text": [
            "<class 'pandas.core.frame.DataFrame'>\n",
            "RangeIndex: 6890045 entries, 0 to 6890044\n",
            "Data columns (total 6 columns):\n",
            " #   Column                Dtype \n",
            "---  ------                ----- \n",
            " 0   Start date            object\n",
            " 1   Start station number  int64 \n",
            " 2   End station number    int64 \n",
            " 3   Member type           object\n",
            " 4   day_of_week           object\n",
            " 5   month                 object\n",
            "dtypes: int64(2), object(4)\n",
            "memory usage: 315.4+ MB\n",
            "None\n",
            "       Start station number  End station number\n",
            "count            6890045.00          6890045.00\n",
            "mean               31331.04            31331.77\n",
            "std                  353.14              348.85\n",
            "min                    0.00                0.00\n",
            "25%                31204.00            31212.00\n",
            "50%                31262.00            31259.00\n",
            "75%                31515.00            31515.00\n",
            "max                32609.00            32609.00\n"
          ]
        }
      ]
    },
    {
      "cell_type": "code",
      "source": [
        "# Inspect the DataFrame:\n",
        "# Generate 'year' column from 'Timestamp' column\n",
        "pre_pandemic_data['Start date'] = pd.to_datetime(pre_pandemic_data['Start date'])  # Convert Start date into timestampe\n",
        "pre_pandemic_data['year'] =pre_pandemic_data['Start date'].dt.year                 # Generate year column\n",
        "pre_pandemic_data = pre_pandemic_data[['Start date','Start station number','End station number', 'Member type', 'day_of_week', 'month','year']]\n",
        "print(pre_pandemic_data.info())      # Get information about the DataFrame, including column data types and missing values\n",
        "print(pre_pandemic_data.describe())  # Generate summary statistics of the DataFrame"
      ],
      "metadata": {
        "colab": {
          "base_uri": "https://localhost:8080/"
        },
        "id": "8OdErXxWcTbA",
        "outputId": "6c1347a9-8520-4f1a-dd50-f9c879eab8dc"
      },
      "execution_count": 7,
      "outputs": [
        {
          "output_type": "stream",
          "name": "stdout",
          "text": [
            "<class 'pandas.core.frame.DataFrame'>\n",
            "RangeIndex: 6890045 entries, 0 to 6890044\n",
            "Data columns (total 7 columns):\n",
            " #   Column                Dtype         \n",
            "---  ------                -----         \n",
            " 0   Start date            datetime64[ns]\n",
            " 1   Start station number  int64         \n",
            " 2   End station number    int64         \n",
            " 3   Member type           object        \n",
            " 4   day_of_week           object        \n",
            " 5   month                 object        \n",
            " 6   year                  int64         \n",
            "dtypes: datetime64[ns](1), int64(3), object(3)\n",
            "memory usage: 368.0+ MB\n",
            "None\n",
            "       Start station number  End station number       year\n",
            "count            6890045.00          6890045.00 6890045.00\n",
            "mean               31331.04            31331.77    2018.49\n",
            "std                  353.14              348.85       0.50\n",
            "min                    0.00                0.00    2018.00\n",
            "25%                31204.00            31212.00    2018.00\n",
            "50%                31262.00            31259.00    2018.00\n",
            "75%                31515.00            31515.00    2019.00\n",
            "max                32609.00            32609.00    2019.00\n"
          ]
        }
      ]
    },
    {
      "cell_type": "code",
      "source": [
        "# Save As a CSV file To Google Drive\n",
        "data_folder_path = \"/content/drive/My Drive/MSCA31009MLPA_FinalProject/data/\"\n",
        "\n",
        "file_name = '/pre_pandemic_data.csv'\n",
        "with open(data_folder_path+file_name, 'w', encoding = 'utf-8-sig') as f:\n",
        "  pre_pandemic_data.to_csv(f)"
      ],
      "metadata": {
        "id": "8JFAxRiBnTmL"
      },
      "execution_count": 8,
      "outputs": []
    },
    {
      "cell_type": "code",
      "source": [
        "# Specify the directory path: \n",
        "path = \"/content/drive/My Drive/MSCA31009MLPA_FinalProject/data/post-pandemic\"\n",
        "!ls \"/content/drive/My Drive/MSCA31009MLPA_FinalProject/data/post-pandemic\""
      ],
      "metadata": {
        "colab": {
          "base_uri": "https://localhost:8080/"
        },
        "id": "TMAHVniA0_H4",
        "outputId": "14766e1a-235f-49f5-8f5a-567a9ed7db82"
      },
      "execution_count": 11,
      "outputs": [
        {
          "output_type": "stream",
          "name": "stdout",
          "text": [
            "EDA2021.csv  EDA2022.csv\n"
          ]
        }
      ]
    },
    {
      "cell_type": "code",
      "source": [
        "# Loop through the files:\n",
        "\n",
        "post_pandemic_data = pd.DataFrame()  # Create an empty DataFrame to store the concatenated data\n",
        "\n",
        "for file_name in os.listdir(path):\n",
        "    if file_name.endswith(\".csv\"):\n",
        "        file_path = os.path.join(path, file_name)\n",
        "        data = pd.read_csv(file_path)\n",
        "        post_pandemic_data = pd.concat([post_pandemic_data, data], ignore_index=True)"
      ],
      "metadata": {
        "colab": {
          "base_uri": "https://localhost:8080/"
        },
        "id": "mVOq-SR7k3wa",
        "outputId": "f5f8b0cb-c09a-4a87-927f-cbec5633fe83"
      },
      "execution_count": 13,
      "outputs": [
        {
          "output_type": "stream",
          "name": "stderr",
          "text": [
            "<ipython-input-13-ffa81c9de198>:8: DtypeWarning: Columns (3,5) have mixed types. Specify dtype option on import or set low_memory=False.\n",
            "  data = pd.read_csv(file_path)\n"
          ]
        }
      ]
    },
    {
      "cell_type": "code",
      "source": [
        "post_pandemic_data = post_pandemic_data[['Start date','Start station number','End station number', 'Member type', 'day_of_week', 'month']]"
      ],
      "metadata": {
        "id": "ThmkKfnZ892l"
      },
      "execution_count": 14,
      "outputs": []
    },
    {
      "cell_type": "code",
      "source": [
        "# Inspect the DataFrame:\n",
        "# Generate 'year' column from 'Timestamp' column\n",
        "post_pandemic_data['Start date'] = pd.to_datetime(post_pandemic_data['Start date'])  # Convert Start date into timestampe\n",
        "post_pandemic_data['year'] =post_pandemic_data['Start date'].dt.year                 # Generate year column\n",
        "post_pandemic_data = post_pandemic_data[['Start date','Start station number','End station number', \n",
        "                                         'Member type', 'day_of_week', 'month', 'year']]\n",
        "\n",
        "print(post_pandemic_data.info())      # Get information about the DataFrame, including column data types and missing values\n",
        "print(post_pandemic_data.describe())  # Generate summary statistics of the DataFrame"
      ],
      "metadata": {
        "colab": {
          "base_uri": "https://localhost:8080/"
        },
        "id": "stmfoaeN1bV8",
        "outputId": "484a6d17-2c35-4398-d502-941be1eef2f3"
      },
      "execution_count": 15,
      "outputs": [
        {
          "output_type": "stream",
          "name": "stdout",
          "text": [
            "<class 'pandas.core.frame.DataFrame'>\n",
            "RangeIndex: 6045461 entries, 0 to 6045460\n",
            "Data columns (total 7 columns):\n",
            " #   Column                Dtype         \n",
            "---  ------                -----         \n",
            " 0   Start date            datetime64[ns]\n",
            " 1   Start station number  object        \n",
            " 2   End station number    object        \n",
            " 3   Member type           object        \n",
            " 4   day_of_week           object        \n",
            " 5   month                 object        \n",
            " 6   year                  int64         \n",
            "dtypes: datetime64[ns](1), int64(1), object(5)\n",
            "memory usage: 322.9+ MB\n",
            "None\n",
            "            year\n",
            "count 6045461.00\n",
            "mean     2021.56\n",
            "std         0.50\n",
            "min      2021.00\n",
            "25%      2021.00\n",
            "50%      2022.00\n",
            "75%      2022.00\n",
            "max      2022.00\n"
          ]
        }
      ]
    },
    {
      "cell_type": "code",
      "source": [
        "# Save As a CSV file To Google Drive\n",
        "data_folder_path = \"/content/drive/My Drive/MSCA31009MLPA_FinalProject/data/\"\n",
        "\n",
        "file_name = '/post_pandemic_data.csv'\n",
        "with open(data_folder_path+file_name, 'w', encoding = 'utf-8-sig') as f:\n",
        "  post_pandemic_data.to_csv(f)"
      ],
      "metadata": {
        "id": "29QI-Zz51jZQ"
      },
      "execution_count": 16,
      "outputs": []
    },
    {
      "cell_type": "markdown",
      "source": [
        "### 2. Adding \"Total trip count\" column:\n",
        "For the prediction of the total trip count in the Capital Bike Share bike sharing service dataset, I considered using followings deep learning models with LSTM:\n",
        "\n",
        "-\n",
        "-\n",
        "-\n",
        "-\n"
      ],
      "metadata": {
        "id": "NqHAqbL9iJT8"
      }
    },
    {
      "cell_type": "code",
      "source": [
        "# Specify the directory path: \n",
        "path = \"/content/drive/My Drive/MSCA31009MLPA_FinalProject/data\"\n",
        "!ls \"/content/drive/My Drive/MSCA31009MLPA_FinalProject/data\""
      ],
      "metadata": {
        "colab": {
          "base_uri": "https://localhost:8080/"
        },
        "id": "UA08aAkow9qc",
        "outputId": "b5c248bd-c9e1-45bc-cb50-f7bba169379d"
      },
      "execution_count": 9,
      "outputs": [
        {
          "output_type": "stream",
          "name": "stdout",
          "text": [
            "2010-2017  2021\t\t     post-pandemic\t      pre_pandemic_data2.csv\n",
            "2018\t   2022\t\t     post_pandemic_data2.csv  pre_pandemic_data.csv\n",
            "2019\t   DF_2010-2022.csv  post_pandemic_data.csv\n",
            "2020\t   Merged_data\t     pre-pandemic\n"
          ]
        }
      ]
    },
    {
      "cell_type": "code",
      "source": [
        "# Load the two pre and post pandemic data\n",
        "file_name1 = '/pre_pandemic_data.csv'\n",
        "file_name2 = '/post_pandemic_data.csv'\n",
        "\n",
        "\n",
        "pre_pandemic_data = pd.read_csv(path+file_name1)\n",
        "print(pre_pandemic_data.head())\n",
        "print(pre_pandemic_data.shape)\n",
        "post_pandemic_data = pd.read_csv(path+file_name2)\n",
        "print(post_pandemic_data.head())\n",
        "print(post_pandemic_data.shape)"
      ],
      "metadata": {
        "colab": {
          "base_uri": "https://localhost:8080/"
        },
        "id": "BLqMMmW_xFrq",
        "outputId": "759cb13e-fd55-417b-9f0d-0d3fd5b06d81"
      },
      "execution_count": 10,
      "outputs": [
        {
          "output_type": "stream",
          "name": "stdout",
          "text": [
            "   Unnamed: 0           Start date  Start station number  End station number  \\\n",
            "0           0  2018-01-01 00:05:06                 31104               31400   \n",
            "1           1  2018-01-01 00:14:30                 31321               31321   \n",
            "2           2  2018-01-01 00:14:53                 31321               31321   \n",
            "3           3  2018-01-01 00:15:31                 31406               31103   \n",
            "4           4  2018-01-01 00:18:02                 31618               31619   \n",
            "\n",
            "  Member type day_of_week    month  year  \n",
            "0      Member      Monday  January  2018  \n",
            "1      Casual      Monday  January  2018  \n",
            "2      Casual      Monday  January  2018  \n",
            "3      Casual      Monday  January  2018  \n",
            "4      Member      Monday  January  2018  \n",
            "(6890045, 8)\n"
          ]
        },
        {
          "output_type": "stream",
          "name": "stderr",
          "text": [
            "<ipython-input-10-f7c466d10c68>:9: DtypeWarning: Columns (2,3) have mixed types. Specify dtype option on import or set low_memory=False.\n",
            "  post_pandemic_data = pd.read_csv(path+file_name2)\n"
          ]
        },
        {
          "output_type": "stream",
          "name": "stdout",
          "text": [
            "   Unnamed: 0           Start date Start station number End station number  \\\n",
            "0           0  2021-01-08 17:58:48             31318.00           31405.00   \n",
            "1           1  2021-01-08 22:05:51             31270.00           31663.00   \n",
            "2           2  2021-01-21 17:20:31             31926.00           31036.00   \n",
            "3           3  2021-01-28 10:06:30             31907.00           31047.00   \n",
            "4           4  2021-01-11 12:09:45             31931.00           31047.00   \n",
            "\n",
            "  Member type day_of_week    month  year  \n",
            "0      Casual      Friday  January  2021  \n",
            "1      Member      Friday  January  2021  \n",
            "2      Member    Thursday  January  2021  \n",
            "3      Member    Thursday  January  2021  \n",
            "4      Casual      Monday  January  2021  \n",
            "(6045461, 8)\n"
          ]
        }
      ]
    },
    {
      "cell_type": "code",
      "source": [
        "post_pandemic_data = post_pandemic_data[['Start station number','End station number', \n",
        "                                         'Member type', 'day_of_week', 'month', 'year']]"
      ],
      "metadata": {
        "id": "6VKZlW18xMUe"
      },
      "execution_count": 4,
      "outputs": []
    },
    {
      "cell_type": "code",
      "source": [
        "pre_pandemic_data = pre_pandemic_data[['Start station number','End station number', \n",
        "                                        'Member type', 'day_of_week', 'month', 'year']]"
      ],
      "metadata": {
        "id": "GJ4fDO5Ex4PI"
      },
      "execution_count": 11,
      "outputs": []
    },
    {
      "cell_type": "markdown",
      "source": [],
      "metadata": {
        "id": "r1TdWmH2xz_R"
      }
    },
    {
      "cell_type": "code",
      "source": [
        "# Group the data by the relevant features and count the number of rows in each group\n",
        "trip_counts =  post_pandemic_data.groupby(['Start station number','End station number',\n",
        "                                           'Member type', 'day_of_week', 'month', 'year']).size().reset_index(name='Total trip count')\n",
        "\n",
        "# Merge the trip_counts back into the original DataFrame\n",
        "post_pandemic_data = post_pandemic_data.merge(trip_counts, on=['Start station number','End station number',\n",
        "                                                               'Member type', 'day_of_week', 'month', 'year'], how='left')\n",
        "\n",
        "# Fill any missing 'Total trip count' values with 0\n",
        "post_pandemic_data['Total trip count'] = post_pandemic_data['Total trip count'].fillna(0).astype(int)"
      ],
      "metadata": {
        "id": "BGB3uYcoic18"
      },
      "execution_count": 6,
      "outputs": []
    },
    {
      "cell_type": "code",
      "source": [
        "# Group the data by the relevant features and count the number of rows in each group\n",
        "trip_counts =  pre_pandemic_data.groupby(['Start station number','End station number',\n",
        "                                           'Member type', 'day_of_week', 'month', 'year']).size().reset_index(name='Total trip count')\n",
        "\n",
        "# Merge the trip_counts back into the original DataFrame\n",
        "pre_pandemic_data = pre_pandemic_data.merge(trip_counts, on=['Start station number','End station number',\n",
        "                                                               'Member type', 'day_of_week', 'month', 'year'], how='left')\n",
        "\n",
        "# Fill any missing 'Total trip count' values with 0\n",
        "pre_pandemic_data['Total trip count'] = pre_pandemic_data['Total trip count'].fillna(0).astype(int)"
      ],
      "metadata": {
        "id": "dWn714hy9Nrt"
      },
      "execution_count": 12,
      "outputs": []
    },
    {
      "cell_type": "code",
      "source": [
        "print(post_pandemic_data.describe())\n",
        "post_pandemic_data.head()"
      ],
      "metadata": {
        "colab": {
          "base_uri": "https://localhost:8080/",
          "height": 424
        },
        "id": "u5eJheqN5-ex",
        "outputId": "dd5b23b7-4dbd-4a80-80d8-41a78f12acc2"
      },
      "execution_count": 8,
      "outputs": [
        {
          "output_type": "stream",
          "name": "stdout",
          "text": [
            "            year  Total trip count\n",
            "count 6045461.00        6045461.00\n",
            "mean     2021.56              3.32\n",
            "std         0.50              6.55\n",
            "min      2021.00              0.00\n",
            "25%      2021.00              1.00\n",
            "50%      2022.00              2.00\n",
            "75%      2022.00              3.00\n",
            "max      2022.00            169.00\n"
          ]
        },
        {
          "output_type": "execute_result",
          "data": {
            "text/plain": [
              "  Start station number End station number Member type day_of_week    month  \\\n",
              "0             31318.00           31405.00      Casual      Friday  January   \n",
              "1             31270.00           31663.00      Member      Friday  January   \n",
              "2             31926.00           31036.00      Member    Thursday  January   \n",
              "3             31907.00           31047.00      Member    Thursday  January   \n",
              "4             31931.00           31047.00      Casual      Monday  January   \n",
              "\n",
              "   year  Total trip count  \n",
              "0  2021                 1  \n",
              "1  2021                 1  \n",
              "2  2021                 1  \n",
              "3  2021                 1  \n",
              "4  2021                 1  "
            ],
            "text/html": [
              "\n",
              "  <div id=\"df-357cd086-5f9c-48cf-8b28-ce1f40d3dafb\">\n",
              "    <div class=\"colab-df-container\">\n",
              "      <div>\n",
              "<style scoped>\n",
              "    .dataframe tbody tr th:only-of-type {\n",
              "        vertical-align: middle;\n",
              "    }\n",
              "\n",
              "    .dataframe tbody tr th {\n",
              "        vertical-align: top;\n",
              "    }\n",
              "\n",
              "    .dataframe thead th {\n",
              "        text-align: right;\n",
              "    }\n",
              "</style>\n",
              "<table border=\"1\" class=\"dataframe\">\n",
              "  <thead>\n",
              "    <tr style=\"text-align: right;\">\n",
              "      <th></th>\n",
              "      <th>Start station number</th>\n",
              "      <th>End station number</th>\n",
              "      <th>Member type</th>\n",
              "      <th>day_of_week</th>\n",
              "      <th>month</th>\n",
              "      <th>year</th>\n",
              "      <th>Total trip count</th>\n",
              "    </tr>\n",
              "  </thead>\n",
              "  <tbody>\n",
              "    <tr>\n",
              "      <th>0</th>\n",
              "      <td>31318.00</td>\n",
              "      <td>31405.00</td>\n",
              "      <td>Casual</td>\n",
              "      <td>Friday</td>\n",
              "      <td>January</td>\n",
              "      <td>2021</td>\n",
              "      <td>1</td>\n",
              "    </tr>\n",
              "    <tr>\n",
              "      <th>1</th>\n",
              "      <td>31270.00</td>\n",
              "      <td>31663.00</td>\n",
              "      <td>Member</td>\n",
              "      <td>Friday</td>\n",
              "      <td>January</td>\n",
              "      <td>2021</td>\n",
              "      <td>1</td>\n",
              "    </tr>\n",
              "    <tr>\n",
              "      <th>2</th>\n",
              "      <td>31926.00</td>\n",
              "      <td>31036.00</td>\n",
              "      <td>Member</td>\n",
              "      <td>Thursday</td>\n",
              "      <td>January</td>\n",
              "      <td>2021</td>\n",
              "      <td>1</td>\n",
              "    </tr>\n",
              "    <tr>\n",
              "      <th>3</th>\n",
              "      <td>31907.00</td>\n",
              "      <td>31047.00</td>\n",
              "      <td>Member</td>\n",
              "      <td>Thursday</td>\n",
              "      <td>January</td>\n",
              "      <td>2021</td>\n",
              "      <td>1</td>\n",
              "    </tr>\n",
              "    <tr>\n",
              "      <th>4</th>\n",
              "      <td>31931.00</td>\n",
              "      <td>31047.00</td>\n",
              "      <td>Casual</td>\n",
              "      <td>Monday</td>\n",
              "      <td>January</td>\n",
              "      <td>2021</td>\n",
              "      <td>1</td>\n",
              "    </tr>\n",
              "  </tbody>\n",
              "</table>\n",
              "</div>\n",
              "      <button class=\"colab-df-convert\" onclick=\"convertToInteractive('df-357cd086-5f9c-48cf-8b28-ce1f40d3dafb')\"\n",
              "              title=\"Convert this dataframe to an interactive table.\"\n",
              "              style=\"display:none;\">\n",
              "        \n",
              "  <svg xmlns=\"http://www.w3.org/2000/svg\" height=\"24px\"viewBox=\"0 0 24 24\"\n",
              "       width=\"24px\">\n",
              "    <path d=\"M0 0h24v24H0V0z\" fill=\"none\"/>\n",
              "    <path d=\"M18.56 5.44l.94 2.06.94-2.06 2.06-.94-2.06-.94-.94-2.06-.94 2.06-2.06.94zm-11 1L8.5 8.5l.94-2.06 2.06-.94-2.06-.94L8.5 2.5l-.94 2.06-2.06.94zm10 10l.94 2.06.94-2.06 2.06-.94-2.06-.94-.94-2.06-.94 2.06-2.06.94z\"/><path d=\"M17.41 7.96l-1.37-1.37c-.4-.4-.92-.59-1.43-.59-.52 0-1.04.2-1.43.59L10.3 9.45l-7.72 7.72c-.78.78-.78 2.05 0 2.83L4 21.41c.39.39.9.59 1.41.59.51 0 1.02-.2 1.41-.59l7.78-7.78 2.81-2.81c.8-.78.8-2.07 0-2.86zM5.41 20L4 18.59l7.72-7.72 1.47 1.35L5.41 20z\"/>\n",
              "  </svg>\n",
              "      </button>\n",
              "      \n",
              "  <style>\n",
              "    .colab-df-container {\n",
              "      display:flex;\n",
              "      flex-wrap:wrap;\n",
              "      gap: 12px;\n",
              "    }\n",
              "\n",
              "    .colab-df-convert {\n",
              "      background-color: #E8F0FE;\n",
              "      border: none;\n",
              "      border-radius: 50%;\n",
              "      cursor: pointer;\n",
              "      display: none;\n",
              "      fill: #1967D2;\n",
              "      height: 32px;\n",
              "      padding: 0 0 0 0;\n",
              "      width: 32px;\n",
              "    }\n",
              "\n",
              "    .colab-df-convert:hover {\n",
              "      background-color: #E2EBFA;\n",
              "      box-shadow: 0px 1px 2px rgba(60, 64, 67, 0.3), 0px 1px 3px 1px rgba(60, 64, 67, 0.15);\n",
              "      fill: #174EA6;\n",
              "    }\n",
              "\n",
              "    [theme=dark] .colab-df-convert {\n",
              "      background-color: #3B4455;\n",
              "      fill: #D2E3FC;\n",
              "    }\n",
              "\n",
              "    [theme=dark] .colab-df-convert:hover {\n",
              "      background-color: #434B5C;\n",
              "      box-shadow: 0px 1px 3px 1px rgba(0, 0, 0, 0.15);\n",
              "      filter: drop-shadow(0px 1px 2px rgba(0, 0, 0, 0.3));\n",
              "      fill: #FFFFFF;\n",
              "    }\n",
              "  </style>\n",
              "\n",
              "      <script>\n",
              "        const buttonEl =\n",
              "          document.querySelector('#df-357cd086-5f9c-48cf-8b28-ce1f40d3dafb button.colab-df-convert');\n",
              "        buttonEl.style.display =\n",
              "          google.colab.kernel.accessAllowed ? 'block' : 'none';\n",
              "\n",
              "        async function convertToInteractive(key) {\n",
              "          const element = document.querySelector('#df-357cd086-5f9c-48cf-8b28-ce1f40d3dafb');\n",
              "          const dataTable =\n",
              "            await google.colab.kernel.invokeFunction('convertToInteractive',\n",
              "                                                     [key], {});\n",
              "          if (!dataTable) return;\n",
              "\n",
              "          const docLinkHtml = 'Like what you see? Visit the ' +\n",
              "            '<a target=\"_blank\" href=https://colab.research.google.com/notebooks/data_table.ipynb>data table notebook</a>'\n",
              "            + ' to learn more about interactive tables.';\n",
              "          element.innerHTML = '';\n",
              "          dataTable['output_type'] = 'display_data';\n",
              "          await google.colab.output.renderOutput(dataTable, element);\n",
              "          const docLink = document.createElement('div');\n",
              "          docLink.innerHTML = docLinkHtml;\n",
              "          element.appendChild(docLink);\n",
              "        }\n",
              "      </script>\n",
              "    </div>\n",
              "  </div>\n",
              "  "
            ]
          },
          "metadata": {},
          "execution_count": 8
        }
      ]
    },
    {
      "cell_type": "code",
      "source": [
        "print(pre_pandemic_data.describe())\n",
        "pre_pandemic_data.head()"
      ],
      "metadata": {
        "colab": {
          "base_uri": "https://localhost:8080/",
          "height": 424
        },
        "id": "xgeEt2Zjyn4P",
        "outputId": "42efd796-b4aa-49db-b592-0607d70d1076"
      },
      "execution_count": 13,
      "outputs": [
        {
          "output_type": "stream",
          "name": "stdout",
          "text": [
            "       Start station number  End station number       year  Total trip count\n",
            "count            6890045.00          6890045.00 6890045.00        6890045.00\n",
            "mean               31331.04            31331.77    2018.49              5.73\n",
            "std                  353.14              348.85       0.50              9.36\n",
            "min                    0.00                0.00    2018.00              1.00\n",
            "25%                31204.00            31212.00    2018.00              2.00\n",
            "50%                31262.00            31259.00    2018.00              3.00\n",
            "75%                31515.00            31515.00    2019.00              6.00\n",
            "max                32609.00            32609.00    2019.00            218.00\n"
          ]
        },
        {
          "output_type": "execute_result",
          "data": {
            "text/plain": [
              "   Start station number  End station number Member type day_of_week    month  \\\n",
              "0                 31104               31400      Member      Monday  January   \n",
              "1                 31321               31321      Casual      Monday  January   \n",
              "2                 31321               31321      Casual      Monday  January   \n",
              "3                 31406               31103      Casual      Monday  January   \n",
              "4                 31618               31619      Member      Monday  January   \n",
              "\n",
              "   year  Total trip count  \n",
              "0  2018                 2  \n",
              "1  2018                 4  \n",
              "2  2018                 4  \n",
              "3  2018                 1  \n",
              "4  2018                 3  "
            ],
            "text/html": [
              "\n",
              "  <div id=\"df-d2d667be-8249-4003-b6f3-2066f13aadab\">\n",
              "    <div class=\"colab-df-container\">\n",
              "      <div>\n",
              "<style scoped>\n",
              "    .dataframe tbody tr th:only-of-type {\n",
              "        vertical-align: middle;\n",
              "    }\n",
              "\n",
              "    .dataframe tbody tr th {\n",
              "        vertical-align: top;\n",
              "    }\n",
              "\n",
              "    .dataframe thead th {\n",
              "        text-align: right;\n",
              "    }\n",
              "</style>\n",
              "<table border=\"1\" class=\"dataframe\">\n",
              "  <thead>\n",
              "    <tr style=\"text-align: right;\">\n",
              "      <th></th>\n",
              "      <th>Start station number</th>\n",
              "      <th>End station number</th>\n",
              "      <th>Member type</th>\n",
              "      <th>day_of_week</th>\n",
              "      <th>month</th>\n",
              "      <th>year</th>\n",
              "      <th>Total trip count</th>\n",
              "    </tr>\n",
              "  </thead>\n",
              "  <tbody>\n",
              "    <tr>\n",
              "      <th>0</th>\n",
              "      <td>31104</td>\n",
              "      <td>31400</td>\n",
              "      <td>Member</td>\n",
              "      <td>Monday</td>\n",
              "      <td>January</td>\n",
              "      <td>2018</td>\n",
              "      <td>2</td>\n",
              "    </tr>\n",
              "    <tr>\n",
              "      <th>1</th>\n",
              "      <td>31321</td>\n",
              "      <td>31321</td>\n",
              "      <td>Casual</td>\n",
              "      <td>Monday</td>\n",
              "      <td>January</td>\n",
              "      <td>2018</td>\n",
              "      <td>4</td>\n",
              "    </tr>\n",
              "    <tr>\n",
              "      <th>2</th>\n",
              "      <td>31321</td>\n",
              "      <td>31321</td>\n",
              "      <td>Casual</td>\n",
              "      <td>Monday</td>\n",
              "      <td>January</td>\n",
              "      <td>2018</td>\n",
              "      <td>4</td>\n",
              "    </tr>\n",
              "    <tr>\n",
              "      <th>3</th>\n",
              "      <td>31406</td>\n",
              "      <td>31103</td>\n",
              "      <td>Casual</td>\n",
              "      <td>Monday</td>\n",
              "      <td>January</td>\n",
              "      <td>2018</td>\n",
              "      <td>1</td>\n",
              "    </tr>\n",
              "    <tr>\n",
              "      <th>4</th>\n",
              "      <td>31618</td>\n",
              "      <td>31619</td>\n",
              "      <td>Member</td>\n",
              "      <td>Monday</td>\n",
              "      <td>January</td>\n",
              "      <td>2018</td>\n",
              "      <td>3</td>\n",
              "    </tr>\n",
              "  </tbody>\n",
              "</table>\n",
              "</div>\n",
              "      <button class=\"colab-df-convert\" onclick=\"convertToInteractive('df-d2d667be-8249-4003-b6f3-2066f13aadab')\"\n",
              "              title=\"Convert this dataframe to an interactive table.\"\n",
              "              style=\"display:none;\">\n",
              "        \n",
              "  <svg xmlns=\"http://www.w3.org/2000/svg\" height=\"24px\"viewBox=\"0 0 24 24\"\n",
              "       width=\"24px\">\n",
              "    <path d=\"M0 0h24v24H0V0z\" fill=\"none\"/>\n",
              "    <path d=\"M18.56 5.44l.94 2.06.94-2.06 2.06-.94-2.06-.94-.94-2.06-.94 2.06-2.06.94zm-11 1L8.5 8.5l.94-2.06 2.06-.94-2.06-.94L8.5 2.5l-.94 2.06-2.06.94zm10 10l.94 2.06.94-2.06 2.06-.94-2.06-.94-.94-2.06-.94 2.06-2.06.94z\"/><path d=\"M17.41 7.96l-1.37-1.37c-.4-.4-.92-.59-1.43-.59-.52 0-1.04.2-1.43.59L10.3 9.45l-7.72 7.72c-.78.78-.78 2.05 0 2.83L4 21.41c.39.39.9.59 1.41.59.51 0 1.02-.2 1.41-.59l7.78-7.78 2.81-2.81c.8-.78.8-2.07 0-2.86zM5.41 20L4 18.59l7.72-7.72 1.47 1.35L5.41 20z\"/>\n",
              "  </svg>\n",
              "      </button>\n",
              "      \n",
              "  <style>\n",
              "    .colab-df-container {\n",
              "      display:flex;\n",
              "      flex-wrap:wrap;\n",
              "      gap: 12px;\n",
              "    }\n",
              "\n",
              "    .colab-df-convert {\n",
              "      background-color: #E8F0FE;\n",
              "      border: none;\n",
              "      border-radius: 50%;\n",
              "      cursor: pointer;\n",
              "      display: none;\n",
              "      fill: #1967D2;\n",
              "      height: 32px;\n",
              "      padding: 0 0 0 0;\n",
              "      width: 32px;\n",
              "    }\n",
              "\n",
              "    .colab-df-convert:hover {\n",
              "      background-color: #E2EBFA;\n",
              "      box-shadow: 0px 1px 2px rgba(60, 64, 67, 0.3), 0px 1px 3px 1px rgba(60, 64, 67, 0.15);\n",
              "      fill: #174EA6;\n",
              "    }\n",
              "\n",
              "    [theme=dark] .colab-df-convert {\n",
              "      background-color: #3B4455;\n",
              "      fill: #D2E3FC;\n",
              "    }\n",
              "\n",
              "    [theme=dark] .colab-df-convert:hover {\n",
              "      background-color: #434B5C;\n",
              "      box-shadow: 0px 1px 3px 1px rgba(0, 0, 0, 0.15);\n",
              "      filter: drop-shadow(0px 1px 2px rgba(0, 0, 0, 0.3));\n",
              "      fill: #FFFFFF;\n",
              "    }\n",
              "  </style>\n",
              "\n",
              "      <script>\n",
              "        const buttonEl =\n",
              "          document.querySelector('#df-d2d667be-8249-4003-b6f3-2066f13aadab button.colab-df-convert');\n",
              "        buttonEl.style.display =\n",
              "          google.colab.kernel.accessAllowed ? 'block' : 'none';\n",
              "\n",
              "        async function convertToInteractive(key) {\n",
              "          const element = document.querySelector('#df-d2d667be-8249-4003-b6f3-2066f13aadab');\n",
              "          const dataTable =\n",
              "            await google.colab.kernel.invokeFunction('convertToInteractive',\n",
              "                                                     [key], {});\n",
              "          if (!dataTable) return;\n",
              "\n",
              "          const docLinkHtml = 'Like what you see? Visit the ' +\n",
              "            '<a target=\"_blank\" href=https://colab.research.google.com/notebooks/data_table.ipynb>data table notebook</a>'\n",
              "            + ' to learn more about interactive tables.';\n",
              "          element.innerHTML = '';\n",
              "          dataTable['output_type'] = 'display_data';\n",
              "          await google.colab.output.renderOutput(dataTable, element);\n",
              "          const docLink = document.createElement('div');\n",
              "          docLink.innerHTML = docLinkHtml;\n",
              "          element.appendChild(docLink);\n",
              "        }\n",
              "      </script>\n",
              "    </div>\n",
              "  </div>\n",
              "  "
            ]
          },
          "metadata": {},
          "execution_count": 13
        }
      ]
    },
    {
      "cell_type": "code",
      "source": [
        "# Save As a CSV file To Google Drive\n",
        "data_folder_path = \"/content/drive/My Drive/MSCA31009MLPA_FinalProject/data/\"\n",
        "\n",
        "file_name = '/pre_pandemic_data2.csv'\n",
        "with open(data_folder_path+file_name, 'w', encoding = 'utf-8-sig') as f:\n",
        "  pre_pandemic_data.to_csv(f)\n",
        "# file_name = '/post_pandemic_data2.csv'\n",
        "# with open(data_folder_path+file_name, 'w', encoding = 'utf-8-sig') as f:\n",
        "#   post_pandemic_data.to_csv(f)"
      ],
      "metadata": {
        "id": "lARe2VklyisG"
      },
      "execution_count": 14,
      "outputs": []
    }
  ]
}